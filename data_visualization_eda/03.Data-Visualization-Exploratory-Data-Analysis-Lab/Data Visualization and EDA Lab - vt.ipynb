{
 "cells": [
  {
   "cell_type": "code",
   "execution_count": 56,
   "id": "1b1927be-b3ca-4858-93e1-83348b9b931e",
   "metadata": {},
   "outputs": [],
   "source": [
    "# Write your imports here\n",
    "\n",
    "import pandas as pd\n",
    "import matplotlib.pyplot as plt\n",
    "import seaborn as sns\n",
    "import numpy as np\n",
    "import zipfile\n",
    "from io import TextIOWrapper\n",
    "import re"
   ]
  },
  {
   "cell_type": "markdown",
   "id": "0a1bacf2-619d-4a97-bf91-e791cee8ce99",
   "metadata": {},
   "source": [
    "# Data Visualization and Exploratory Data Analysis Lab\n",
    "## Visualizing and exploring data. The data mining process"
   ]
  },
  {
   "cell_type": "markdown",
   "id": "7dd6a75a-59db-4b6f-b51c-79cfbffcef45",
   "metadata": {},
   "source": [
    "In this lab, you'll get acquainted with the most streamed songs on Spotify in 2024. The dataset and its associated metadata can be found [here](https://www.kaggle.com/datasets/nelgiriyewithana/most-streamed-spotify-songs-2024). The version you'll need is provided in the `data/` folder.\n",
    "\n",
    "You know the drill. Do what you can / want / need to answer the questions to the best of your ability. Answers do not need to be trivial, or even the same among different people."
   ]
  },
  {
   "cell_type": "markdown",
   "id": "b8cfbf65-857c-464e-98df-b6425b0b571d",
   "metadata": {},
   "source": [
    "### Problem 1. Read the dataset (1 point)\n",
    "Read the file without unzipping it first. You can try a different character encoding, like `unicode_escape`. Don't worry too much about weird characters."
   ]
  },
  {
   "cell_type": "code",
   "execution_count": 30,
   "id": "00d7946c-3f48-476e-8213-42d816ec1db2",
   "metadata": {},
   "outputs": [],
   "source": [
    "zip_path = 'data\\spotify_most_streamed_2024.zip'\n",
    "\n",
    "csv_file_name = 'Most Streamed Spotify Songs 2024.csv'\n",
    "\n",
    "with zipfile.ZipFile(zip_path, 'r') as zip_ref:\n",
    "    with zip_ref.open(csv_file_name) as file:\n",
    "        with TextIOWrapper(file, encoding='unicode_escape') as text_file:\n",
    "            spotify_df = pd.read_csv(text_file)"
   ]
  },
  {
   "cell_type": "code",
   "execution_count": 31,
   "id": "dda8c74e",
   "metadata": {},
   "outputs": [
    {
     "data": {
      "text/html": [
       "<div>\n",
       "<style scoped>\n",
       "    .dataframe tbody tr th:only-of-type {\n",
       "        vertical-align: middle;\n",
       "    }\n",
       "\n",
       "    .dataframe tbody tr th {\n",
       "        vertical-align: top;\n",
       "    }\n",
       "\n",
       "    .dataframe thead th {\n",
       "        text-align: right;\n",
       "    }\n",
       "</style>\n",
       "<table border=\"1\" class=\"dataframe\">\n",
       "  <thead>\n",
       "    <tr style=\"text-align: right;\">\n",
       "      <th></th>\n",
       "      <th>Track</th>\n",
       "      <th>Album Name</th>\n",
       "      <th>Artist</th>\n",
       "      <th>Release Date</th>\n",
       "      <th>ISRC</th>\n",
       "      <th>All Time Rank</th>\n",
       "      <th>Track Score</th>\n",
       "      <th>Spotify Streams</th>\n",
       "      <th>Spotify Playlist Count</th>\n",
       "      <th>Spotify Playlist Reach</th>\n",
       "      <th>...</th>\n",
       "      <th>SiriusXM Spins</th>\n",
       "      <th>Deezer Playlist Count</th>\n",
       "      <th>Deezer Playlist Reach</th>\n",
       "      <th>Amazon Playlist Count</th>\n",
       "      <th>Pandora Streams</th>\n",
       "      <th>Pandora Track Stations</th>\n",
       "      <th>Soundcloud Streams</th>\n",
       "      <th>Shazam Counts</th>\n",
       "      <th>TIDAL Popularity</th>\n",
       "      <th>Explicit Track</th>\n",
       "    </tr>\n",
       "  </thead>\n",
       "  <tbody>\n",
       "    <tr>\n",
       "      <th>0</th>\n",
       "      <td>MILLION DOLLAR BABY</td>\n",
       "      <td>Million Dollar Baby - Single</td>\n",
       "      <td>Tommy Richman</td>\n",
       "      <td>4/26/2024</td>\n",
       "      <td>QM24S2402528</td>\n",
       "      <td>1</td>\n",
       "      <td>725.4</td>\n",
       "      <td>390,470,936</td>\n",
       "      <td>30,716</td>\n",
       "      <td>196,631,588</td>\n",
       "      <td>...</td>\n",
       "      <td>684</td>\n",
       "      <td>62.0</td>\n",
       "      <td>17,598,718</td>\n",
       "      <td>114.0</td>\n",
       "      <td>18,004,655</td>\n",
       "      <td>22,931</td>\n",
       "      <td>4,818,457</td>\n",
       "      <td>2,669,262</td>\n",
       "      <td>NaN</td>\n",
       "      <td>0</td>\n",
       "    </tr>\n",
       "    <tr>\n",
       "      <th>1</th>\n",
       "      <td>Not Like Us</td>\n",
       "      <td>Not Like Us</td>\n",
       "      <td>Kendrick Lamar</td>\n",
       "      <td>5/4/2024</td>\n",
       "      <td>USUG12400910</td>\n",
       "      <td>2</td>\n",
       "      <td>545.9</td>\n",
       "      <td>323,703,884</td>\n",
       "      <td>28,113</td>\n",
       "      <td>174,597,137</td>\n",
       "      <td>...</td>\n",
       "      <td>3</td>\n",
       "      <td>67.0</td>\n",
       "      <td>10,422,430</td>\n",
       "      <td>111.0</td>\n",
       "      <td>7,780,028</td>\n",
       "      <td>28,444</td>\n",
       "      <td>6,623,075</td>\n",
       "      <td>1,118,279</td>\n",
       "      <td>NaN</td>\n",
       "      <td>1</td>\n",
       "    </tr>\n",
       "    <tr>\n",
       "      <th>2</th>\n",
       "      <td>i like the way you kiss me</td>\n",
       "      <td>I like the way you kiss me</td>\n",
       "      <td>Artemas</td>\n",
       "      <td>3/19/2024</td>\n",
       "      <td>QZJ842400387</td>\n",
       "      <td>3</td>\n",
       "      <td>538.4</td>\n",
       "      <td>601,309,283</td>\n",
       "      <td>54,331</td>\n",
       "      <td>211,607,669</td>\n",
       "      <td>...</td>\n",
       "      <td>536</td>\n",
       "      <td>136.0</td>\n",
       "      <td>36,321,847</td>\n",
       "      <td>172.0</td>\n",
       "      <td>5,022,621</td>\n",
       "      <td>5,639</td>\n",
       "      <td>7,208,651</td>\n",
       "      <td>5,285,340</td>\n",
       "      <td>NaN</td>\n",
       "      <td>0</td>\n",
       "    </tr>\n",
       "    <tr>\n",
       "      <th>3</th>\n",
       "      <td>Flowers</td>\n",
       "      <td>Flowers - Single</td>\n",
       "      <td>Miley Cyrus</td>\n",
       "      <td>1/12/2023</td>\n",
       "      <td>USSM12209777</td>\n",
       "      <td>4</td>\n",
       "      <td>444.9</td>\n",
       "      <td>2,031,280,633</td>\n",
       "      <td>269,802</td>\n",
       "      <td>136,569,078</td>\n",
       "      <td>...</td>\n",
       "      <td>2,182</td>\n",
       "      <td>264.0</td>\n",
       "      <td>24,684,248</td>\n",
       "      <td>210.0</td>\n",
       "      <td>190,260,277</td>\n",
       "      <td>203,384</td>\n",
       "      <td>NaN</td>\n",
       "      <td>11,822,942</td>\n",
       "      <td>NaN</td>\n",
       "      <td>0</td>\n",
       "    </tr>\n",
       "    <tr>\n",
       "      <th>4</th>\n",
       "      <td>Houdini</td>\n",
       "      <td>Houdini</td>\n",
       "      <td>Eminem</td>\n",
       "      <td>5/31/2024</td>\n",
       "      <td>USUG12403398</td>\n",
       "      <td>5</td>\n",
       "      <td>423.3</td>\n",
       "      <td>107,034,922</td>\n",
       "      <td>7,223</td>\n",
       "      <td>151,469,874</td>\n",
       "      <td>...</td>\n",
       "      <td>1</td>\n",
       "      <td>82.0</td>\n",
       "      <td>17,660,624</td>\n",
       "      <td>105.0</td>\n",
       "      <td>4,493,884</td>\n",
       "      <td>7,006</td>\n",
       "      <td>207,179</td>\n",
       "      <td>457,017</td>\n",
       "      <td>NaN</td>\n",
       "      <td>1</td>\n",
       "    </tr>\n",
       "    <tr>\n",
       "      <th>...</th>\n",
       "      <td>...</td>\n",
       "      <td>...</td>\n",
       "      <td>...</td>\n",
       "      <td>...</td>\n",
       "      <td>...</td>\n",
       "      <td>...</td>\n",
       "      <td>...</td>\n",
       "      <td>...</td>\n",
       "      <td>...</td>\n",
       "      <td>...</td>\n",
       "      <td>...</td>\n",
       "      <td>...</td>\n",
       "      <td>...</td>\n",
       "      <td>...</td>\n",
       "      <td>...</td>\n",
       "      <td>...</td>\n",
       "      <td>...</td>\n",
       "      <td>...</td>\n",
       "      <td>...</td>\n",
       "      <td>...</td>\n",
       "      <td>...</td>\n",
       "    </tr>\n",
       "    <tr>\n",
       "      <th>4595</th>\n",
       "      <td>For the Last Time</td>\n",
       "      <td>For the Last Time</td>\n",
       "      <td>$uicideboy$</td>\n",
       "      <td>9/5/2017</td>\n",
       "      <td>QM8DG1703420</td>\n",
       "      <td>4,585</td>\n",
       "      <td>19.4</td>\n",
       "      <td>305,049,963</td>\n",
       "      <td>65,770</td>\n",
       "      <td>5,103,054</td>\n",
       "      <td>...</td>\n",
       "      <td>NaN</td>\n",
       "      <td>2.0</td>\n",
       "      <td>14,217</td>\n",
       "      <td>NaN</td>\n",
       "      <td>20,104,066</td>\n",
       "      <td>13,184</td>\n",
       "      <td>50,633,006</td>\n",
       "      <td>656,337</td>\n",
       "      <td>NaN</td>\n",
       "      <td>1</td>\n",
       "    </tr>\n",
       "    <tr>\n",
       "      <th>4596</th>\n",
       "      <td>Dil Meri Na Sune</td>\n",
       "      <td>Dil Meri Na Sune (From \"Genius\")</td>\n",
       "      <td>Atif Aslam</td>\n",
       "      <td>7/27/2018</td>\n",
       "      <td>INT101800122</td>\n",
       "      <td>4,575</td>\n",
       "      <td>19.4</td>\n",
       "      <td>52,282,360</td>\n",
       "      <td>4,602</td>\n",
       "      <td>1,449,767</td>\n",
       "      <td>...</td>\n",
       "      <td>NaN</td>\n",
       "      <td>1.0</td>\n",
       "      <td>927</td>\n",
       "      <td>NaN</td>\n",
       "      <td>NaN</td>\n",
       "      <td>NaN</td>\n",
       "      <td>NaN</td>\n",
       "      <td>193,590</td>\n",
       "      <td>NaN</td>\n",
       "      <td>0</td>\n",
       "    </tr>\n",
       "    <tr>\n",
       "      <th>4597</th>\n",
       "      <td>Grace (feat. 42 Dugg)</td>\n",
       "      <td>My Turn</td>\n",
       "      <td>Lil Baby</td>\n",
       "      <td>2/28/2020</td>\n",
       "      <td>USUG12000043</td>\n",
       "      <td>4,571</td>\n",
       "      <td>19.4</td>\n",
       "      <td>189,972,685</td>\n",
       "      <td>72,066</td>\n",
       "      <td>6,704,802</td>\n",
       "      <td>...</td>\n",
       "      <td>NaN</td>\n",
       "      <td>1.0</td>\n",
       "      <td>74</td>\n",
       "      <td>6.0</td>\n",
       "      <td>84,426,740</td>\n",
       "      <td>28,999</td>\n",
       "      <td>NaN</td>\n",
       "      <td>1,135,998</td>\n",
       "      <td>NaN</td>\n",
       "      <td>1</td>\n",
       "    </tr>\n",
       "    <tr>\n",
       "      <th>4598</th>\n",
       "      <td>Nashe Si Chadh Gayi</td>\n",
       "      <td>November Top 10 Songs</td>\n",
       "      <td>Arijit Singh</td>\n",
       "      <td>11/8/2016</td>\n",
       "      <td>INY091600067</td>\n",
       "      <td>4,591</td>\n",
       "      <td>19.4</td>\n",
       "      <td>145,467,020</td>\n",
       "      <td>14,037</td>\n",
       "      <td>7,387,064</td>\n",
       "      <td>...</td>\n",
       "      <td>NaN</td>\n",
       "      <td>NaN</td>\n",
       "      <td>NaN</td>\n",
       "      <td>7.0</td>\n",
       "      <td>6,817,840</td>\n",
       "      <td>NaN</td>\n",
       "      <td>NaN</td>\n",
       "      <td>448,292</td>\n",
       "      <td>NaN</td>\n",
       "      <td>0</td>\n",
       "    </tr>\n",
       "    <tr>\n",
       "      <th>4599</th>\n",
       "      <td>Me Acostumbre (feat. Bad Bunny)</td>\n",
       "      <td>Me Acostumbre (feat. Bad Bunny)</td>\n",
       "      <td>Arcï¿½ï¿½</td>\n",
       "      <td>4/11/2017</td>\n",
       "      <td>USB271700107</td>\n",
       "      <td>4,593</td>\n",
       "      <td>19.4</td>\n",
       "      <td>255,740,653</td>\n",
       "      <td>32,138</td>\n",
       "      <td>14,066,526</td>\n",
       "      <td>...</td>\n",
       "      <td>NaN</td>\n",
       "      <td>4.0</td>\n",
       "      <td>127,479</td>\n",
       "      <td>4.0</td>\n",
       "      <td>69,006,739</td>\n",
       "      <td>11,320</td>\n",
       "      <td>NaN</td>\n",
       "      <td>767,006</td>\n",
       "      <td>NaN</td>\n",
       "      <td>1</td>\n",
       "    </tr>\n",
       "  </tbody>\n",
       "</table>\n",
       "<p>4600 rows × 29 columns</p>\n",
       "</div>"
      ],
      "text/plain": [
       "                                Track                        Album Name  \\\n",
       "0                 MILLION DOLLAR BABY      Million Dollar Baby - Single   \n",
       "1                         Not Like Us                       Not Like Us   \n",
       "2          i like the way you kiss me        I like the way you kiss me   \n",
       "3                             Flowers                  Flowers - Single   \n",
       "4                             Houdini                           Houdini   \n",
       "...                               ...                               ...   \n",
       "4595                For the Last Time                 For the Last Time   \n",
       "4596                 Dil Meri Na Sune  Dil Meri Na Sune (From \"Genius\")   \n",
       "4597            Grace (feat. 42 Dugg)                           My Turn   \n",
       "4598              Nashe Si Chadh Gayi             November Top 10 Songs   \n",
       "4599  Me Acostumbre (feat. Bad Bunny)   Me Acostumbre (feat. Bad Bunny)   \n",
       "\n",
       "              Artist Release Date          ISRC All Time Rank  Track Score  \\\n",
       "0      Tommy Richman    4/26/2024  QM24S2402528             1        725.4   \n",
       "1     Kendrick Lamar     5/4/2024  USUG12400910             2        545.9   \n",
       "2            Artemas    3/19/2024  QZJ842400387             3        538.4   \n",
       "3        Miley Cyrus    1/12/2023  USSM12209777             4        444.9   \n",
       "4             Eminem    5/31/2024  USUG12403398             5        423.3   \n",
       "...              ...          ...           ...           ...          ...   \n",
       "4595     $uicideboy$     9/5/2017  QM8DG1703420         4,585         19.4   \n",
       "4596      Atif Aslam    7/27/2018  INT101800122         4,575         19.4   \n",
       "4597        Lil Baby    2/28/2020  USUG12000043         4,571         19.4   \n",
       "4598    Arijit Singh    11/8/2016  INY091600067         4,591         19.4   \n",
       "4599       Arcï¿½ï¿½    4/11/2017  USB271700107         4,593         19.4   \n",
       "\n",
       "     Spotify Streams Spotify Playlist Count Spotify Playlist Reach  ...  \\\n",
       "0        390,470,936                 30,716            196,631,588  ...   \n",
       "1        323,703,884                 28,113            174,597,137  ...   \n",
       "2        601,309,283                 54,331            211,607,669  ...   \n",
       "3      2,031,280,633                269,802            136,569,078  ...   \n",
       "4        107,034,922                  7,223            151,469,874  ...   \n",
       "...              ...                    ...                    ...  ...   \n",
       "4595     305,049,963                 65,770              5,103,054  ...   \n",
       "4596      52,282,360                  4,602              1,449,767  ...   \n",
       "4597     189,972,685                 72,066              6,704,802  ...   \n",
       "4598     145,467,020                 14,037              7,387,064  ...   \n",
       "4599     255,740,653                 32,138             14,066,526  ...   \n",
       "\n",
       "      SiriusXM Spins Deezer Playlist Count Deezer Playlist Reach  \\\n",
       "0                684                  62.0            17,598,718   \n",
       "1                  3                  67.0            10,422,430   \n",
       "2                536                 136.0            36,321,847   \n",
       "3              2,182                 264.0            24,684,248   \n",
       "4                  1                  82.0            17,660,624   \n",
       "...              ...                   ...                   ...   \n",
       "4595             NaN                   2.0                14,217   \n",
       "4596             NaN                   1.0                   927   \n",
       "4597             NaN                   1.0                    74   \n",
       "4598             NaN                   NaN                   NaN   \n",
       "4599             NaN                   4.0               127,479   \n",
       "\n",
       "     Amazon Playlist Count Pandora Streams Pandora Track Stations  \\\n",
       "0                    114.0      18,004,655                 22,931   \n",
       "1                    111.0       7,780,028                 28,444   \n",
       "2                    172.0       5,022,621                  5,639   \n",
       "3                    210.0     190,260,277                203,384   \n",
       "4                    105.0       4,493,884                  7,006   \n",
       "...                    ...             ...                    ...   \n",
       "4595                   NaN      20,104,066                 13,184   \n",
       "4596                   NaN             NaN                    NaN   \n",
       "4597                   6.0      84,426,740                 28,999   \n",
       "4598                   7.0       6,817,840                    NaN   \n",
       "4599                   4.0      69,006,739                 11,320   \n",
       "\n",
       "     Soundcloud Streams  Shazam Counts TIDAL Popularity Explicit Track  \n",
       "0             4,818,457      2,669,262              NaN              0  \n",
       "1             6,623,075      1,118,279              NaN              1  \n",
       "2             7,208,651      5,285,340              NaN              0  \n",
       "3                   NaN     11,822,942              NaN              0  \n",
       "4               207,179        457,017              NaN              1  \n",
       "...                 ...            ...              ...            ...  \n",
       "4595         50,633,006        656,337              NaN              1  \n",
       "4596                NaN        193,590              NaN              0  \n",
       "4597                NaN      1,135,998              NaN              1  \n",
       "4598                NaN        448,292              NaN              0  \n",
       "4599                NaN        767,006              NaN              1  \n",
       "\n",
       "[4600 rows x 29 columns]"
      ]
     },
     "execution_count": 31,
     "metadata": {},
     "output_type": "execute_result"
    }
   ],
   "source": [
    "spotify_df"
   ]
  },
  {
   "cell_type": "markdown",
   "id": "84bb1876-3ab5-4d66-86f6-7e1ede99fffe",
   "metadata": {},
   "source": [
    "### Problem 2. Perform some cleaning (1 point)\n",
    "Ensure all data has been read correctly; check the data types. Give the columns better names (e.g. `all_time_rank`, `track_score`, etc.). To do so, try to use `apply()` instead of a manual mapping between old and new name. Get rid of any unnecessary ones."
   ]
  },
  {
   "cell_type": "code",
   "execution_count": 32,
   "id": "b0a8a054-a18f-42b5-8dc3-e840e816f27c",
   "metadata": {},
   "outputs": [
    {
     "data": {
      "text/plain": [
       "Track                          object\n",
       "Album Name                     object\n",
       "Artist                         object\n",
       "Release Date                   object\n",
       "ISRC                           object\n",
       "All Time Rank                  object\n",
       "Track Score                   float64\n",
       "Spotify Streams                object\n",
       "Spotify Playlist Count         object\n",
       "Spotify Playlist Reach         object\n",
       "Spotify Popularity            float64\n",
       "YouTube Views                  object\n",
       "YouTube Likes                  object\n",
       "TikTok Posts                   object\n",
       "TikTok Likes                   object\n",
       "TikTok Views                   object\n",
       "YouTube Playlist Reach         object\n",
       "Apple Music Playlist Count    float64\n",
       "AirPlay Spins                  object\n",
       "SiriusXM Spins                 object\n",
       "Deezer Playlist Count         float64\n",
       "Deezer Playlist Reach          object\n",
       "Amazon Playlist Count         float64\n",
       "Pandora Streams                object\n",
       "Pandora Track Stations         object\n",
       "Soundcloud Streams             object\n",
       "Shazam Counts                  object\n",
       "TIDAL Popularity              float64\n",
       "Explicit Track                  int64\n",
       "dtype: object"
      ]
     },
     "execution_count": 32,
     "metadata": {},
     "output_type": "execute_result"
    }
   ],
   "source": [
    "spotify_df.dtypes"
   ]
  },
  {
   "cell_type": "markdown",
   "id": "261128e2",
   "metadata": {},
   "source": [
    "First we will take care of the column names and then we will proceed to the cleaning - the columns with reach, count, streams, etc all need to be floats or integers"
   ]
  },
  {
   "cell_type": "code",
   "execution_count": 33,
   "id": "45afad8d",
   "metadata": {},
   "outputs": [],
   "source": [
    "def pythonic_columns(column_name):\n",
    "    column_name = column_name.lower()\n",
    "    # Replace spaces with underscores\n",
    "    column_name = column_name.replace(' ', '_')\n",
    "    # Replace special characters with underscores\n",
    "    column_name = re.sub(r'\\W+', '_', column_name)\n",
    "    # Ensure column names are valid Python identifiers\n",
    "    column_name = re.sub(r'^[^a-zA-Z_]+', '', column_name)\n",
    "    return column_name\n",
    "\n",
    "spotify_df.columns = [pythonic_columns(col) for col in spotify_df.columns]"
   ]
  },
  {
   "cell_type": "code",
   "execution_count": 34,
   "id": "fc48d4de",
   "metadata": {},
   "outputs": [
    {
     "data": {
      "text/plain": [
       "Index(['track', 'album_name', 'artist', 'release_date', 'isrc',\n",
       "       'all_time_rank', 'track_score', 'spotify_streams',\n",
       "       'spotify_playlist_count', 'spotify_playlist_reach',\n",
       "       'spotify_popularity', 'youtube_views', 'youtube_likes', 'tiktok_posts',\n",
       "       'tiktok_likes', 'tiktok_views', 'youtube_playlist_reach',\n",
       "       'apple_music_playlist_count', 'airplay_spins', 'siriusxm_spins',\n",
       "       'deezer_playlist_count', 'deezer_playlist_reach',\n",
       "       'amazon_playlist_count', 'pandora_streams', 'pandora_track_stations',\n",
       "       'soundcloud_streams', 'shazam_counts', 'tidal_popularity',\n",
       "       'explicit_track'],\n",
       "      dtype='object')"
      ]
     },
     "execution_count": 34,
     "metadata": {},
     "output_type": "execute_result"
    }
   ],
   "source": [
    "spotify_df.columns"
   ]
  },
  {
   "cell_type": "code",
   "execution_count": 35,
   "id": "4f9d6211",
   "metadata": {},
   "outputs": [
    {
     "data": {
      "text/plain": [
       "track                          object\n",
       "album_name                     object\n",
       "artist                         object\n",
       "release_date                   object\n",
       "isrc                           object\n",
       "all_time_rank                  object\n",
       "track_score                   float64\n",
       "spotify_streams                object\n",
       "spotify_playlist_count         object\n",
       "spotify_playlist_reach         object\n",
       "spotify_popularity            float64\n",
       "youtube_views                  object\n",
       "youtube_likes                  object\n",
       "tiktok_posts                   object\n",
       "tiktok_likes                   object\n",
       "tiktok_views                   object\n",
       "youtube_playlist_reach         object\n",
       "apple_music_playlist_count    float64\n",
       "airplay_spins                  object\n",
       "siriusxm_spins                 object\n",
       "deezer_playlist_count         float64\n",
       "deezer_playlist_reach          object\n",
       "amazon_playlist_count         float64\n",
       "pandora_streams                object\n",
       "pandora_track_stations         object\n",
       "soundcloud_streams             object\n",
       "shazam_counts                  object\n",
       "tidal_popularity              float64\n",
       "explicit_track                  int64\n",
       "dtype: object"
      ]
     },
     "execution_count": 35,
     "metadata": {},
     "output_type": "execute_result"
    }
   ],
   "source": [
    "spotify_df.dtypes"
   ]
  },
  {
   "cell_type": "markdown",
   "id": "dd3a0f56",
   "metadata": {},
   "source": [
    "First we will take care of the release date column, where we will convert all to datetime."
   ]
  },
  {
   "cell_type": "code",
   "execution_count": 36,
   "id": "26ea2800",
   "metadata": {},
   "outputs": [
    {
     "data": {
      "text/plain": [
       "0       4/26/2024\n",
       "1        5/4/2024\n",
       "2       3/19/2024\n",
       "3       1/12/2023\n",
       "4       5/31/2024\n",
       "          ...    \n",
       "4595     9/5/2017\n",
       "4596    7/27/2018\n",
       "4597    2/28/2020\n",
       "4598    11/8/2016\n",
       "4599    4/11/2017\n",
       "Name: release_date, Length: 4600, dtype: object"
      ]
     },
     "execution_count": 36,
     "metadata": {},
     "output_type": "execute_result"
    }
   ],
   "source": [
    "spotify_df['release_date']"
   ]
  },
  {
   "cell_type": "code",
   "execution_count": 37,
   "id": "d30d42ed",
   "metadata": {},
   "outputs": [],
   "source": [
    "for col in spotify_df.columns:\n",
    "        try:\n",
    "            # Attempt to convert the column to datetime, assuming MM/DD/YYYY format\n",
    "            spotify_df[col] = pd.to_datetime(spotify_df[col], format='%m/%d/%Y')\n",
    "        except (ValueError, TypeError):\n",
    "            # If conversion fails, leave the column as is\n",
    "            pass"
   ]
  },
  {
   "cell_type": "markdown",
   "id": "e0f883e3",
   "metadata": {},
   "source": [
    "Next, off to the all time rank. It clearly needs to be integer."
   ]
  },
  {
   "cell_type": "code",
   "execution_count": 38,
   "id": "3f45012b",
   "metadata": {},
   "outputs": [],
   "source": [
    "spotify_df['all_time_rank'] = spotify_df['all_time_rank'].str.replace(',', '').astype(int)\n"
   ]
  },
  {
   "cell_type": "markdown",
   "id": "f080cda1",
   "metadata": {},
   "source": [
    "Now track scores need to be floats."
   ]
  },
  {
   "cell_type": "code",
   "execution_count": 39,
   "id": "9179d0da",
   "metadata": {},
   "outputs": [],
   "source": [
    "spotify_df['track_score'] = spotify_df['track_score'].astype(float)"
   ]
  },
  {
   "cell_type": "markdown",
   "id": "72666100",
   "metadata": {},
   "source": [
    "deezer_playlist_reach, pandora_streams, pandora_track_stations, soundcloud_streams, shazam_counts, airplay_spins, siriusxm_spins, youtube_views, youtube_likes, tiktok_posts, tiktok_likes, tiktok_views, youtube_playlist_reach, spotify_streams, spotify_playlist_count, spotify_playlist_reach will all undergo the same process in order to be converted to integers."
   ]
  },
  {
   "cell_type": "code",
   "execution_count": 40,
   "id": "6eb1783d",
   "metadata": {},
   "outputs": [],
   "source": [
    "columns_to_convert = [\n",
    "    'deezer_playlist_reach', 'pandora_streams', \n",
    "    'pandora_track_stations', 'soundcloud_streams', 'shazam_counts', 'airplay_spins', 'siriusxm_spins', \n",
    "    'youtube_views', 'youtube_likes', 'tiktok_posts', 'tiktok_likes', 'tiktok_views', 'youtube_playlist_reach', \n",
    "    'spotify_streams', 'spotify_playlist_count', 'spotify_playlist_reach'\n",
    "]\n",
    "\n",
    "def convert_column(df, column):\n",
    "    df[column] = df[column].astype(str).str.replace(',', '')\n",
    "    df[column] = pd.to_numeric(df[column], errors='coerce').astype('Int64')\n",
    "\n",
    "for column in columns_to_convert:\n",
    "    convert_column(spotify_df, column)"
   ]
  },
  {
   "cell_type": "code",
   "execution_count": 41,
   "id": "db60077f",
   "metadata": {},
   "outputs": [
    {
     "data": {
      "text/plain": [
       "track                                 object\n",
       "album_name                            object\n",
       "artist                                object\n",
       "release_date                  datetime64[ns]\n",
       "isrc                                  object\n",
       "all_time_rank                          int32\n",
       "track_score                          float64\n",
       "spotify_streams                        Int64\n",
       "spotify_playlist_count                 Int64\n",
       "spotify_playlist_reach                 Int64\n",
       "spotify_popularity                   float64\n",
       "youtube_views                          Int64\n",
       "youtube_likes                          Int64\n",
       "tiktok_posts                           Int64\n",
       "tiktok_likes                           Int64\n",
       "tiktok_views                           Int64\n",
       "youtube_playlist_reach                 Int64\n",
       "apple_music_playlist_count           float64\n",
       "airplay_spins                          Int64\n",
       "siriusxm_spins                         Int64\n",
       "deezer_playlist_count                float64\n",
       "deezer_playlist_reach                  Int64\n",
       "amazon_playlist_count                float64\n",
       "pandora_streams                        Int64\n",
       "pandora_track_stations                 Int64\n",
       "soundcloud_streams                     Int64\n",
       "shazam_counts                          Int64\n",
       "tidal_popularity              datetime64[ns]\n",
       "explicit_track                         int64\n",
       "dtype: object"
      ]
     },
     "execution_count": 41,
     "metadata": {},
     "output_type": "execute_result"
    }
   ],
   "source": [
    "spotify_df.dtypes"
   ]
  },
  {
   "cell_type": "markdown",
   "id": "9b055708",
   "metadata": {},
   "source": [
    "Everything looks clear now, we will decide which columns seem redundant once we get started analysing them."
   ]
  },
  {
   "cell_type": "markdown",
   "id": "0ae40d8d-4831-484d-a464-dda392703366",
   "metadata": {},
   "source": [
    "### Problem 3. Most productive artists (1 point)\n",
    "Who are the five artists with the most songs in the dataset?\n",
    "\n",
    "Who are the five \"clean-mouthed\" artists (i.e., with no explicit songs)? **Note:** We're not going into details but we can start a discussion about whether a song needs swearing to be popular."
   ]
  },
  {
   "cell_type": "code",
   "execution_count": 44,
   "id": "49d45c5d-ae65-4324-b869-c5075667f690",
   "metadata": {},
   "outputs": [
    {
     "data": {
      "text/plain": [
       "artist\n",
       "Drake           63\n",
       "Taylor Swift    63\n",
       "Bad Bunny       60\n",
       "KAROL G         32\n",
       "The Weeknd      31\n",
       "Name: count, dtype: int64"
      ]
     },
     "execution_count": 44,
     "metadata": {},
     "output_type": "execute_result"
    }
   ],
   "source": [
    "artist_song_count = spotify_df['artist'].value_counts().head(5)\n",
    "artist_song_count"
   ]
  },
  {
   "cell_type": "markdown",
   "id": "da5b8515",
   "metadata": {},
   "source": [
    "The answer to the first question would be Drake, Taylor Swift, Bad Bunny, KAROL G and The Weeknd."
   ]
  },
  {
   "cell_type": "code",
   "execution_count": 47,
   "id": "a37e9537",
   "metadata": {},
   "outputs": [
    {
     "data": {
      "text/plain": [
       "artist\n",
       "Imagine Dragons    16\n",
       "BTS                14\n",
       "Linkin Park        13\n",
       "Luke Combs         13\n",
       "Ozuna              12\n",
       "Name: count, dtype: int64"
      ]
     },
     "execution_count": 47,
     "metadata": {},
     "output_type": "execute_result"
    }
   ],
   "source": [
    "clean_artists = spotify_df[spotify_df['explicit_track'] == 0]['artist'].value_counts()\n",
    "\n",
    "clean_artists = clean_artists[clean_artists.index.isin(spotify_df.groupby('artist')['explicit_track'].sum()[spotify_df.groupby('artist')['explicit_track'].sum() == 0].index)]\n",
    "clean_artists = clean_artists.head(5)\n",
    "\n",
    "clean_artists"
   ]
  },
  {
   "cell_type": "markdown",
   "id": "0b17bd92",
   "metadata": {},
   "source": [
    "The five clean-mouth artists with most songs on Spotify are Imagine Dragons, BTS, Linkin Park, Luke Combs and Ozuna."
   ]
  },
  {
   "cell_type": "markdown",
   "id": "25ee2949-c7ce-4c30-8836-1fa443d245e9",
   "metadata": {},
   "source": [
    "### Problem 4. Most streamed artists (1 point)\n",
    "And who are the top five most streamed (as measured by Spotify streams) artists?"
   ]
  },
  {
   "cell_type": "code",
   "execution_count": 48,
   "id": "aeb0384d-daa4-482e-b5ff-dbe8abca0688",
   "metadata": {},
   "outputs": [
    {
     "data": {
      "text/plain": [
       "artist\n",
       "Bad Bunny       37054834425\n",
       "The Weeknd      36948540278\n",
       "Drake           34962157577\n",
       "Taylor Swift    34470771165\n",
       "Post Malone     26137472958\n",
       "Name: spotify_streams, dtype: Int64"
      ]
     },
     "execution_count": 48,
     "metadata": {},
     "output_type": "execute_result"
    }
   ],
   "source": [
    "artist_streams = spotify_df.groupby('artist')['spotify_streams'].sum()\n",
    "top_5_artists_by_streams = artist_streams.sort_values(ascending=False).head(5)\n",
    "\n",
    "top_5_artists_by_streams"
   ]
  },
  {
   "cell_type": "markdown",
   "id": "6baedfa9",
   "metadata": {},
   "source": [
    "Bad Bunny, The Weeknd, Drake, Taylor Swift, Post Malone hot the top 5 positions for most streams on Spotify."
   ]
  },
  {
   "cell_type": "markdown",
   "id": "30fa25c3-abd4-4f04-859a-e00e781adaa8",
   "metadata": {},
   "source": [
    "### Problem 5. Songs by year and month (1 point)\n",
    "How many songs have been released each year? Present an appropriate plot. Can you explain the behavior of the plot for 2024?\n",
    "\n",
    "How about months? Is / Are there (a) popular month(s) to release music?"
   ]
  },
  {
   "cell_type": "code",
   "execution_count": 51,
   "id": "6bfca544-a5b2-40b1-9678-c4dbeff75423",
   "metadata": {},
   "outputs": [],
   "source": [
    "spotify_df['release_year'] = spotify_df['release_date'].dt.year\n",
    "songs_per_year = spotify_df['release_year'].value_counts().sort_index()\n",
    "\n",
    "spotify_df['release_month'] = spotify_df['release_date'].dt.month\n",
    "songs_per_month = spotify_df['release_month'].value_counts().sort_index()"
   ]
  },
  {
   "cell_type": "code",
   "execution_count": 54,
   "id": "83c61e2b",
   "metadata": {},
   "outputs": [
    {
     "data": {
      "image/png": "[encoded data removed]",
      "text/plain": [
       "<Figure size 1200x600 with 1 Axes>"
      ]
     },
     "metadata": {},
     "output_type": "display_data"
    },
    {
     "data": {
      "image/png": "[encoded data removed]",
      "text/plain": [
       "<Figure size 1200x600 with 1 Axes>"
      ]
     },
     "metadata": {},
     "output_type": "display_data"
    }
   ],
   "source": [
    "plt.figure(figsize=(12, 6))\n",
    "plt.bar(songs_per_year.index, songs_per_year.values, color='skyblue')\n",
    "plt.title('Number of Songs Released Each Year')\n",
    "plt.xlabel('Year')\n",
    "plt.ylabel('Number of Songs')\n",
    "plt.xticks(rotation=45)\n",
    "plt.show()\n",
    "\n",
    "plt.figure(figsize=(12, 6))\n",
    "plt.bar(songs_per_month.index, songs_per_month.values, color='lightgreen')\n",
    "plt.title('Number of Songs Released Each Month')\n",
    "plt.xlabel('Month')\n",
    "plt.ylabel('Number of Songs')\n",
    "plt.xticks(rotation=45)\n",
    "plt.show()"
   ]
  },
  {
   "cell_type": "markdown",
   "id": "2a28cfea",
   "metadata": {},
   "source": [
    "There is a clear upward trend throughout the years, with the released songs peaking in 2023 with nearly 1200 new songs. In 2024 a decrease is observed slightly above 600, half the value from a year earlier, which could be explained by the fact that the year is incomplete, thus the data and the plot would look different by the end of the year. \n",
    "\n",
    "At the same time the monthly releases fluctuate with just 2 obvious peaks in January and May which seem like the most favourable months for artists with approximately 500 new tracks. December holds the bottom position being the month with the least new releases, just below 300. "
   ]
  },
  {
   "cell_type": "markdown",
   "id": "d83c5535-72dc-4670-81a3-8ca244233a46",
   "metadata": {},
   "source": [
    "### Problem 6. Playlists (2 points)\n",
    "Is there any connection (correlation) between users adding a song to playlists in one service, or another? Only Spotify, Apple, Deezer, and Amazon offer the ability to add a song to a playlist. Find a way to plot all these relationships at the same time, and analyze them. Experiment with different types of correlations."
   ]
  },
  {
   "cell_type": "code",
   "execution_count": 55,
   "id": "d3db5ed8-10e4-4f3d-9e20-ddc03371ba58",
   "metadata": {},
   "outputs": [],
   "source": [
    "playlist_data = spotify_df[['spotify_playlist_count', 'apple_music_playlist_count', 'deezer_playlist_count', 'amazon_playlist_count']]\n",
    "\n",
    "pearson_corr = playlist_data.corr(method='pearson')\n",
    "spearman_corr = playlist_data.corr(method='spearman')\n",
    "kendall_corr = playlist_data.corr(method='kendall')"
   ]
  },
  {
   "cell_type": "markdown",
   "id": "85c40f87",
   "metadata": {},
   "source": [
    "We are going to dive into three different types of correlation in order to examine the relationship between user's behaviour on different services. \n",
    "\n",
    "* Pearson Correlation measures linear relationships.\n",
    "* Spearman Correlation measures monotonic relationships regardless of their linearity.\n",
    "* Kendall Correlation measures the strength of dependence between two variables.\n",
    "\n",
    "With heatmaps we have a visual to help us understand the connections with colour gradient. "
   ]
  },
  {
   "cell_type": "code",
   "execution_count": 58,
   "id": "e9a3eb0a",
   "metadata": {},
   "outputs": [
    {
     "data": {
      "image/png": "[encoded data removed]",
      "text/plain": [
       "<Figure size 1800x500 with 6 Axes>"
      ]
     },
     "metadata": {},
     "output_type": "display_data"
    }
   ],
   "source": [
    "plt.figure(figsize=(18, 5))\n",
    "\n",
    "plt.subplot(1, 3, 1)\n",
    "sns.heatmap(pearson_corr, annot=True, cmap='coolwarm')\n",
    "plt.title('Pearson Correlation')\n",
    "\n",
    "plt.subplot(1, 3, 2)\n",
    "sns.heatmap(spearman_corr, annot=True, cmap='coolwarm')\n",
    "plt.title('Spearman Correlation')\n",
    "\n",
    "plt.subplot(1, 3, 3)\n",
    "sns.heatmap(kendall_corr, annot=True, cmap='coolwarm')\n",
    "plt.title('Kendall Correlation')\n",
    "\n",
    "plt.tight_layout()\n",
    "plt.show()\n"
   ]
  },
  {
   "cell_type": "markdown",
   "id": "89c1e60c",
   "metadata": {},
   "source": [
    "What we can deduce from the heatmaps is that there is a direct linear correlation between adding songs on apple music playlists and on deezer playlists, at the same time people on spotify are not dependent on amazon and vice versa. Another thing that is clear is that apple music users are more versatile in their choice of music services, and there tends to be a stronger connection between adding songs on apple music and on any other provider. "
   ]
  },
  {
   "cell_type": "markdown",
   "id": "e78b8307-de74-4cb4-ba61-da4e7c9fc6c6",
   "metadata": {},
   "source": [
    "### Problem 7. YouTube views and likes (1 point)\n",
    "What is the relationship between YouTube views and likes? Present an appropriate plot. \n",
    "\n",
    "What is the mean YouTube views-to-likes ratio? What is its distribution? Find a way to plot it and describe it."
   ]
  },
  {
   "cell_type": "code",
   "execution_count": null,
   "id": "bf3c3dd5-7466-4dec-9fc3-14a5690da4b4",
   "metadata": {},
   "outputs": [],
   "source": []
  },
  {
   "cell_type": "markdown",
   "id": "7fc028b8-362f-4d5e-9958-72ed876f83fc",
   "metadata": {},
   "source": [
    "### Problem 8. TikTok stuff (2 points)\n",
    "The most popular songs on TikTok released every year show... interesting behavior. Which years peaked the most TikTok views? Show an appropriate chart. Can you explain this behavior? For a bit of context, TikTok was created in 2016.\n",
    "\n",
    "Now, how much popular is the most popular song for each release year, than the mean popularity? Analyze the results.\n",
    "\n",
    "In both parts, it would be helpful to see the actual songs."
   ]
  },
  {
   "cell_type": "code",
   "execution_count": null,
   "id": "3ecec32f-7ddb-449d-9b69-8157705cc319",
   "metadata": {},
   "outputs": [],
   "source": []
  },
  {
   "cell_type": "markdown",
   "id": "d6d06ba6-54fe-4514-b9f3-50b5ac541b50",
   "metadata": {},
   "source": [
    "### * Problem 9. Explore (and clean) at will\n",
    "There is a lot to look for here. For example, you can easily link a song to its genres, and lyrics. You may also try to link artists and albums to more info about them. Or you can compare and contrast a song's performance across different platforms, in a similar manner to what you already did above; maybe even assign a better song ranking system (across platforms with different popularity metrics, and different requirements) than the one provided in the dataset."
   ]
  },
  {
   "cell_type": "code",
   "execution_count": null,
   "id": "844a9811-c034-4bcf-96c4-8b69f743a330",
   "metadata": {},
   "outputs": [],
   "source": []
  }
 ],
 "metadata": {
  "kernelspec": {
   "display_name": "Python 3 (ipykernel)",
   "language": "python",
   "name": "python3"
  },
  "language_info": {
   "codemirror_mode": {
    "name": "ipython",
    "version": 3
   },
   "file_extension": ".py",
   "mimetype": "text/x-python",
   "name": "python",
   "nbconvert_exporter": "python",
   "pygments_lexer": "ipython3",
   "version": "3.11.4"
  }
 },
 "nbformat": 4,
 "nbformat_minor": 5
}
