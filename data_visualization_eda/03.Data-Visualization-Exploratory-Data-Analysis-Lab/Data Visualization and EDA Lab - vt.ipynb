{
 "cells": [
  {
   "cell_type": "code",
   "execution_count": null,
   "id": "1b1927be-b3ca-4858-93e1-83348b9b931e",
   "metadata": {},
   "outputs": [],
   "source": [
    "# Write your imports here\n",
    "\n",
    "import pandas as pd\n",
    "import matplotlib.pyplot as plt\n",
    "import seaborn as sns\n",
    "import numpy as np\n",
    "import zipfile\n",
    "from io import TextIOWrapper\n",
    "import re"
   ]
  },
  {
   "cell_type": "markdown",
   "id": "0a1bacf2-619d-4a97-bf91-e791cee8ce99",
   "metadata": {},
   "source": [
    "# Data Visualization and Exploratory Data Analysis Lab\n",
    "## Visualizing and exploring data. The data mining process"
   ]
  },
  {
   "cell_type": "markdown",
   "id": "7dd6a75a-59db-4b6f-b51c-79cfbffcef45",
   "metadata": {},
   "source": [
    "In this lab, you'll get acquainted with the most streamed songs on Spotify in 2024. The dataset and its associated metadata can be found [here](https://www.kaggle.com/datasets/nelgiriyewithana/most-streamed-spotify-songs-2024). The version you'll need is provided in the `data/` folder.\n",
    "\n",
    "You know the drill. Do what you can / want / need to answer the questions to the best of your ability. Answers do not need to be trivial, or even the same among different people."
   ]
  },
  {
   "cell_type": "markdown",
   "id": "b8cfbf65-857c-464e-98df-b6425b0b571d",
   "metadata": {},
   "source": [
    "### Problem 1. Read the dataset (1 point)\n",
    "Read the file without unzipping it first. You can try a different character encoding, like `unicode_escape`. Don't worry too much about weird characters."
   ]
  },
  {
   "cell_type": "code",
   "execution_count": null,
   "id": "00d7946c-3f48-476e-8213-42d816ec1db2",
   "metadata": {},
   "outputs": [],
   "source": [
    "zip_path = 'data\\spotify_most_streamed_2024.zip'\n",
    "\n",
    "csv_file_name = 'Most Streamed Spotify Songs 2024.csv'\n",
    "\n",
    "with zipfile.ZipFile(zip_path, 'r') as zip_ref:\n",
    "    with zip_ref.open(csv_file_name) as file:\n",
    "        with TextIOWrapper(file, encoding='unicode_escape') as text_file:\n",
    "            spotify_df = pd.read_csv(text_file)"
   ]
  },
  {
   "cell_type": "code",
   "execution_count": null,
   "id": "dda8c74e",
   "metadata": {},
   "outputs": [],
   "source": [
    "spotify_df"
   ]
  },
  {
   "cell_type": "markdown",
   "id": "84bb1876-3ab5-4d66-86f6-7e1ede99fffe",
   "metadata": {},
   "source": [
    "### Problem 2. Perform some cleaning (1 point)\n",
    "Ensure all data has been read correctly; check the data types. Give the columns better names (e.g. `all_time_rank`, `track_score`, etc.). To do so, try to use `apply()` instead of a manual mapping between old and new name. Get rid of any unnecessary ones."
   ]
  },
  {
   "cell_type": "code",
   "execution_count": null,
   "id": "b0a8a054-a18f-42b5-8dc3-e840e816f27c",
   "metadata": {},
   "outputs": [],
   "source": [
    "spotify_df.dtypes"
   ]
  },
  {
   "cell_type": "markdown",
   "id": "261128e2",
   "metadata": {},
   "source": [
    "First we will take care of the column names and then we will proceed to the cleaning - the columns with reach, count, streams, etc all need to be floats or integers"
   ]
  },
  {
   "cell_type": "code",
   "execution_count": null,
   "id": "45afad8d",
   "metadata": {},
   "outputs": [],
   "source": [
    "def pythonic_columns(column_name):\n",
    "    column_name = column_name.lower()\n",
    "    # Replace spaces with underscores\n",
    "    column_name = column_name.replace(' ', '_')\n",
    "    # Replace special characters with underscores\n",
    "    column_name = re.sub(r'\\W+', '_', column_name)\n",
    "    # Ensure column names are valid Python identifiers\n",
    "    column_name = re.sub(r'^[^a-zA-Z_]+', '', column_name)\n",
    "    return column_name\n",
    "\n",
    "spotify_df.columns = [pythonic_columns(col) for col in spotify_df.columns]"
   ]
  },
  {
   "cell_type": "code",
   "execution_count": null,
   "id": "fc48d4de",
   "metadata": {},
   "outputs": [],
   "source": [
    "spotify_df.columns"
   ]
  },
  {
   "cell_type": "code",
   "execution_count": null,
   "id": "4f9d6211",
   "metadata": {},
   "outputs": [],
   "source": [
    "spotify_df.dtypes"
   ]
  },
  {
   "cell_type": "markdown",
   "id": "dd3a0f56",
   "metadata": {},
   "source": [
    "First we will take care of the release date column, where we will convert all to datetime."
   ]
  },
  {
   "cell_type": "code",
   "execution_count": null,
   "id": "26ea2800",
   "metadata": {},
   "outputs": [],
   "source": [
    "spotify_df['release_date']"
   ]
  },
  {
   "cell_type": "code",
   "execution_count": null,
   "id": "d30d42ed",
   "metadata": {},
   "outputs": [],
   "source": [
    "for col in spotify_df.columns:\n",
    "        try:\n",
    "            # Attempt to convert the column to datetime, assuming MM/DD/YYYY format\n",
    "            spotify_df[col] = pd.to_datetime(spotify_df[col], format='%m/%d/%Y')\n",
    "        except (ValueError, TypeError):\n",
    "            # If conversion fails, leave the column as is\n",
    "            pass"
   ]
  },
  {
   "cell_type": "markdown",
   "id": "e0f883e3",
   "metadata": {},
   "source": [
    "Next, off to the all time rank. It clearly needs to be integer."
   ]
  },
  {
   "cell_type": "code",
   "execution_count": null,
   "id": "3f45012b",
   "metadata": {},
   "outputs": [],
   "source": [
    "spotify_df['all_time_rank'] = spotify_df['all_time_rank'].str.replace(',', '').astype(int)\n"
   ]
  },
  {
   "cell_type": "markdown",
   "id": "f080cda1",
   "metadata": {},
   "source": [
    "Now track scores need to be floats."
   ]
  },
  {
   "cell_type": "code",
   "execution_count": null,
   "id": "9179d0da",
   "metadata": {},
   "outputs": [],
   "source": [
    "spotify_df['track_score'] = spotify_df['track_score'].astype(float)"
   ]
  },
  {
   "cell_type": "markdown",
   "id": "72666100",
   "metadata": {},
   "source": [
    "deezer_playlist_reach, pandora_streams, pandora_track_stations, soundcloud_streams, shazam_counts, airplay_spins, siriusxm_spins, youtube_views, youtube_likes, tiktok_posts, tiktok_likes, tiktok_views, youtube_playlist_reach, spotify_streams, spotify_playlist_count, spotify_playlist_reach will all undergo the same process in order to be converted to integers."
   ]
  },
  {
   "cell_type": "code",
   "execution_count": null,
   "id": "6eb1783d",
   "metadata": {},
   "outputs": [],
   "source": [
    "columns_to_convert = [\n",
    "    'deezer_playlist_reach', 'pandora_streams', \n",
    "    'pandora_track_stations', 'soundcloud_streams', 'shazam_counts', 'airplay_spins', 'siriusxm_spins', \n",
    "    'youtube_views', 'youtube_likes', 'tiktok_posts', 'tiktok_likes', 'tiktok_views', 'youtube_playlist_reach', \n",
    "    'spotify_streams', 'spotify_playlist_count', 'spotify_playlist_reach'\n",
    "]\n",
    "\n",
    "def convert_column(df, column):\n",
    "    df[column] = df[column].astype(str).str.replace(',', '')\n",
    "    df[column] = pd.to_numeric(df[column], errors='coerce').astype('Int64')\n",
    "\n",
    "for column in columns_to_convert:\n",
    "    convert_column(spotify_df, column)"
   ]
  },
  {
   "cell_type": "code",
   "execution_count": null,
   "id": "db60077f",
   "metadata": {},
   "outputs": [],
   "source": [
    "spotify_df.dtypes"
   ]
  },
  {
   "cell_type": "markdown",
   "id": "9b055708",
   "metadata": {},
   "source": [
    "Everything looks clear now, we will decide which columns seem redundant once we get started analysing them."
   ]
  },
  {
   "cell_type": "markdown",
   "id": "0ae40d8d-4831-484d-a464-dda392703366",
   "metadata": {},
   "source": [
    "### Problem 3. Most productive artists (1 point)\n",
    "Who are the five artists with the most songs in the dataset?\n",
    "\n",
    "Who are the five \"clean-mouthed\" artists (i.e., with no explicit songs)? **Note:** We're not going into details but we can start a discussion about whether a song needs swearing to be popular."
   ]
  },
  {
   "cell_type": "code",
   "execution_count": null,
   "id": "49d45c5d-ae65-4324-b869-c5075667f690",
   "metadata": {},
   "outputs": [],
   "source": [
    "artist_song_count = spotify_df['artist'].value_counts().head(5)\n",
    "artist_song_count"
   ]
  },
  {
   "cell_type": "markdown",
   "id": "da5b8515",
   "metadata": {},
   "source": [
    "The answer to the first question would be Drake, Taylor Swift, Bad Bunny, KAROL G and The Weeknd."
   ]
  },
  {
   "cell_type": "code",
   "execution_count": null,
   "id": "a37e9537",
   "metadata": {},
   "outputs": [],
   "source": [
    "clean_artists = spotify_df[spotify_df['explicit_track'] == 0]['artist'].value_counts()\n",
    "\n",
    "clean_artists = clean_artists[clean_artists.index.isin(spotify_df.groupby('artist')['explicit_track'].sum()[spotify_df.groupby('artist')['explicit_track'].sum() == 0].index)]\n",
    "clean_artists = clean_artists.head(5)\n",
    "\n",
    "clean_artists"
   ]
  },
  {
   "cell_type": "markdown",
   "id": "0b17bd92",
   "metadata": {},
   "source": [
    "The five clean-mouth artists with most songs on Spotify are Imagine Dragons, BTS, Linkin Park, Luke Combs and Ozuna."
   ]
  },
  {
   "cell_type": "markdown",
   "id": "25ee2949-c7ce-4c30-8836-1fa443d245e9",
   "metadata": {},
   "source": [
    "### Problem 4. Most streamed artists (1 point)\n",
    "And who are the top five most streamed (as measured by Spotify streams) artists?"
   ]
  },
  {
   "cell_type": "code",
   "execution_count": null,
   "id": "aeb0384d-daa4-482e-b5ff-dbe8abca0688",
   "metadata": {},
   "outputs": [],
   "source": [
    "artist_streams = spotify_df.groupby('artist')['spotify_streams'].sum()\n",
    "top_5_artists_by_streams = artist_streams.sort_values(ascending=False).head(5)\n",
    "\n",
    "top_5_artists_by_streams"
   ]
  },
  {
   "cell_type": "markdown",
   "id": "6baedfa9",
   "metadata": {},
   "source": [
    "Bad Bunny, The Weeknd, Drake, Taylor Swift, Post Malone hot the top 5 positions for most streams on Spotify."
   ]
  },
  {
   "cell_type": "markdown",
   "id": "30fa25c3-abd4-4f04-859a-e00e781adaa8",
   "metadata": {},
   "source": [
    "### Problem 5. Songs by year and month (1 point)\n",
    "How many songs have been released each year? Present an appropriate plot. Can you explain the behavior of the plot for 2024?\n",
    "\n",
    "How about months? Is / Are there (a) popular month(s) to release music?"
   ]
  },
  {
   "cell_type": "code",
   "execution_count": null,
   "id": "6bfca544-a5b2-40b1-9678-c4dbeff75423",
   "metadata": {},
   "outputs": [],
   "source": [
    "spotify_df['release_year'] = spotify_df['release_date'].dt.year\n",
    "songs_per_year = spotify_df['release_year'].value_counts().sort_index()\n",
    "\n",
    "spotify_df['release_month'] = spotify_df['release_date'].dt.month\n",
    "songs_per_month = spotify_df['release_month'].value_counts().sort_index()"
   ]
  },
  {
   "cell_type": "code",
   "execution_count": null,
   "id": "83c61e2b",
   "metadata": {},
   "outputs": [],
   "source": [
    "plt.figure(figsize=(12, 6))\n",
    "plt.bar(songs_per_year.index, songs_per_year.values, color='skyblue')\n",
    "plt.title('Number of Songs Released Each Year')\n",
    "plt.xlabel('Year')\n",
    "plt.ylabel('Number of Songs')\n",
    "plt.xticks(rotation=45)\n",
    "plt.show()\n",
    "\n",
    "plt.figure(figsize=(12, 6))\n",
    "plt.bar(songs_per_month.index, songs_per_month.values, color='lightgreen')\n",
    "plt.title('Number of Songs Released Each Month')\n",
    "plt.xlabel('Month')\n",
    "plt.ylabel('Number of Songs')\n",
    "plt.xticks(rotation=45)\n",
    "plt.show()"
   ]
  },
  {
   "cell_type": "markdown",
   "id": "2a28cfea",
   "metadata": {},
   "source": [
    "There is a clear upward trend throughout the years, with the released songs peaking in 2023 with nearly 1200 new songs. In 2024 a decrease is observed slightly above 600, half the value from a year earlier, which could be explained by the fact that the year is incomplete, thus the data and the plot would look different by the end of the year. \n",
    "\n",
    "At the same time the monthly releases fluctuate with just 2 obvious peaks in January and May which seem like the most favourable months for artists with approximately 500 new tracks. December holds the bottom position being the month with the least new releases, just below 300. "
   ]
  },
  {
   "cell_type": "markdown",
   "id": "d83c5535-72dc-4670-81a3-8ca244233a46",
   "metadata": {},
   "source": [
    "### Problem 6. Playlists (2 points)\n",
    "Is there any connection (correlation) between users adding a song to playlists in one service, or another? Only Spotify, Apple, Deezer, and Amazon offer the ability to add a song to a playlist. Find a way to plot all these relationships at the same time, and analyze them. Experiment with different types of correlations."
   ]
  },
  {
   "cell_type": "code",
   "execution_count": null,
   "id": "d3db5ed8-10e4-4f3d-9e20-ddc03371ba58",
   "metadata": {},
   "outputs": [],
   "source": [
    "playlist_data = spotify_df[['spotify_playlist_count', 'apple_music_playlist_count', 'deezer_playlist_count', 'amazon_playlist_count']]\n",
    "\n",
    "pearson_corr = playlist_data.corr(method='pearson')\n",
    "spearman_corr = playlist_data.corr(method='spearman')\n",
    "kendall_corr = playlist_data.corr(method='kendall')"
   ]
  },
  {
   "cell_type": "markdown",
   "id": "85c40f87",
   "metadata": {},
   "source": [
    "We are going to dive into three different types of correlation in order to examine the relationship between user's behaviour on different services. \n",
    "\n",
    "* Pearson Correlation measures linear relationships.\n",
    "* Spearman Correlation measures monotonic relationships regardless of their linearity.\n",
    "* Kendall Correlation measures the strength of dependence between two variables.\n",
    "\n",
    "With heatmaps we have a visual to help us understand the connections with colour gradient. "
   ]
  },
  {
   "cell_type": "code",
   "execution_count": null,
   "id": "e9a3eb0a",
   "metadata": {},
   "outputs": [],
   "source": [
    "plt.figure(figsize=(18, 5))\n",
    "\n",
    "plt.subplot(1, 3, 1)\n",
    "sns.heatmap(pearson_corr, annot=True, cmap='coolwarm')\n",
    "plt.title('Pearson Correlation')\n",
    "\n",
    "plt.subplot(1, 3, 2)\n",
    "sns.heatmap(spearman_corr, annot=True, cmap='coolwarm')\n",
    "plt.title('Spearman Correlation')\n",
    "\n",
    "plt.subplot(1, 3, 3)\n",
    "sns.heatmap(kendall_corr, annot=True, cmap='coolwarm')\n",
    "plt.title('Kendall Correlation')\n",
    "\n",
    "plt.tight_layout()\n",
    "plt.show()\n"
   ]
  },
  {
   "cell_type": "markdown",
   "id": "89c1e60c",
   "metadata": {},
   "source": [
    "What we can deduce from the heatmaps is that there is a direct linear correlation between adding songs on apple music playlists and on deezer playlists, at the same time people on spotify are not dependent on amazon and vice versa. Another thing that is clear is that apple music users are more versatile in their choice of music services, and there tends to be a stronger connection between adding songs on apple music and on any other provider. "
   ]
  },
  {
   "cell_type": "markdown",
   "id": "e78b8307-de74-4cb4-ba61-da4e7c9fc6c6",
   "metadata": {},
   "source": [
    "### Problem 7. YouTube views and likes (1 point)\n",
    "What is the relationship between YouTube views and likes? Present an appropriate plot. \n",
    "\n",
    "What is the mean YouTube views-to-likes ratio? What is its distribution? Find a way to plot it and describe it."
   ]
  },
  {
   "cell_type": "markdown",
   "id": "24e9abc4",
   "metadata": {},
   "source": [
    "We will start by calculating the ratio and then take its mean value. With a scatter plot we will represent the ratio between youtube views and likes, and with a histogram we will show the frequency of the mean we've calculated."
   ]
  },
  {
   "cell_type": "code",
   "execution_count": null,
   "id": "bf3c3dd5-7466-4dec-9fc3-14a5690da4b4",
   "metadata": {},
   "outputs": [],
   "source": [
    "spotify_df['views_to_likes_ratio'] = spotify_df['youtube_views'] / spotify_df['youtube_likes']\n",
    "\n",
    "mean_ratio = spotify_df['views_to_likes_ratio'].mean()\n"
   ]
  },
  {
   "cell_type": "code",
   "execution_count": null,
   "id": "254a825f",
   "metadata": {},
   "outputs": [],
   "source": [
    "plt.figure(figsize=(10, 6))\n",
    "sns.scatterplot(x='youtube_views', y='youtube_likes', data=spotify_df)\n",
    "plt.title('Relationship between YouTube Views and Likes')\n",
    "plt.xlabel('YouTube Views')\n",
    "plt.ylabel('YouTube Likes')\n",
    "plt.show()"
   ]
  },
  {
   "cell_type": "markdown",
   "id": "53494497",
   "metadata": {},
   "source": [
    "The concentration of points indicates that the majority of songs have a relatively low number of views. Moreover, for the songs with low views, there is also a low number of likes, yet it is within a proportional range. The outliers, represented by the plot, indicate both exceptionally popular videos with low engagement rate and videos with high engagement, though not as popular.\n",
    "\n",
    "Now, we will proceed to plotting a histogram to better understand the relationship between views and likes on youtube."
   ]
  },
  {
   "cell_type": "code",
   "execution_count": null,
   "id": "41db1587",
   "metadata": {},
   "outputs": [],
   "source": [
    "plt.figure(figsize=(10, 6))\n",
    "sns.histplot(spotify_df['views_to_likes_ratio'], kde=True, bins=100, color='skyblue')\n",
    "plt.title('Distribution of YouTube Views-to-Likes Ratio')\n",
    "plt.xlabel('Views-to-Likes Ratio')\n",
    "plt.ylabel('Frequency')\n",
    "plt.grid(True)\n",
    "plt.show()"
   ]
  },
  {
   "cell_type": "markdown",
   "id": "32a8b0c9",
   "metadata": {},
   "source": [
    "This distribution appears to be quite skewed, and this may call for another way of plotting it. First, we are going to apply a natural logarithm to each data point, which will handle zero values. This will normalise the distribution and will reduce the impact of the outliers seen in the previous two plots. We will also add Kernel Density Estimate (KDE) plot to the histogram, which will provide a smoothed, continuous version of the histogram, which will help us visualise the distribution's shape."
   ]
  },
  {
   "cell_type": "code",
   "execution_count": null,
   "id": "a969ef9c",
   "metadata": {},
   "outputs": [],
   "source": [
    "spotify_df['log_views_to_likes_ratio'] = np.log1p(spotify_df['views_to_likes_ratio'])\n",
    "\n",
    "plt.figure(figsize=(10, 6))\n",
    "sns.histplot(spotify_df['log_views_to_likes_ratio'], kde=True, bins=30, color='skyblue')\n",
    "plt.title('Distribution of Log-Transformed YouTube Views-to-Likes Ratio')\n",
    "plt.xlabel('Log-Transformed Views-to-Likes Ratio')\n",
    "plt.ylabel('Frequency')\n",
    "plt.grid(True)\n",
    "plt.show()"
   ]
  },
  {
   "cell_type": "markdown",
   "id": "ea52c1aa",
   "metadata": {},
   "source": [
    "Now the distribution of the ratio appears normal with the highest frequency at a ratio of 5. We should not forget this is a natural logarithm transformation of our original values, so in order to better understand the meaning of this distribution we need to reverse transform the log."
   ]
  },
  {
   "cell_type": "code",
   "execution_count": null,
   "id": "35ca84b7",
   "metadata": {},
   "outputs": [],
   "source": [
    "original_ratio_peak = np.exp(5) - 1\n",
    "original_ratio_peak"
   ]
  },
  {
   "cell_type": "markdown",
   "id": "7d76b209",
   "metadata": {},
   "source": [
    "This would mean that, on average, the most common views-to-likes ratio is around 147, which implies that for every like, these songs receive 147 views."
   ]
  },
  {
   "cell_type": "markdown",
   "id": "7fc028b8-362f-4d5e-9958-72ed876f83fc",
   "metadata": {},
   "source": [
    "### Problem 8. TikTok stuff (2 points)\n",
    "The most popular songs on TikTok released every year show... interesting behavior. Which years peaked the most TikTok views? Show an appropriate chart. Can you explain this behavior? For a bit of context, TikTok was created in 2016.\n",
    "\n",
    "Now, how much popular is the most popular song for each release year, than the mean popularity? Analyze the results.\n",
    "\n",
    "In both parts, it would be helpful to see the actual songs."
   ]
  },
  {
   "cell_type": "code",
   "execution_count": null,
   "id": "3ecec32f-7ddb-449d-9b69-8157705cc319",
   "metadata": {},
   "outputs": [],
   "source": [
    "spotify_df['release_year'] = spotify_df['release_date'].dt.year\n",
    "\n",
    "yearly_tiktok_views = spotify_df.groupby('release_year')['tiktok_views'].sum()\n",
    "\n",
    "plt.figure(figsize=(12, 6))\n",
    "sns.barplot(x=yearly_tiktok_views.index, y=yearly_tiktok_views.values, color='skyblue')\n",
    "plt.title('Total TikTok Views by Release Year')\n",
    "plt.xlabel('Release Year')\n",
    "plt.ylabel('Total TikTok Views')\n",
    "plt.xticks(rotation=45)\n",
    "plt.show()\n"
   ]
  },
  {
   "cell_type": "markdown",
   "id": "bec3f208",
   "metadata": {},
   "source": [
    "Even though TikTok was created in 2016, the presence of early releases on the platform could be due to several reasons: \n",
    "\n",
    "* historical songs gaining popularity because of trends, challenges or virality\n",
    "* data entry errors\n",
    "* remixes or re-releases on old songs leading to renewed popularity on TikTok\n",
    "\n",
    "We can try adjusting the release year filter to see what results this will yield."
   ]
  },
  {
   "cell_type": "code",
   "execution_count": null,
   "id": "afc74b16",
   "metadata": {},
   "outputs": [],
   "source": [
    "filtered_df = spotify_df[spotify_df['release_year'] >= 2016]\n",
    "\n",
    "yearly_tiktok_views = filtered_df.groupby('release_year')['tiktok_views'].sum()\n",
    "\n",
    "most_popular_songs = filtered_df.loc[filtered_df.groupby('release_year')['tiktok_views'].idxmax()]\n",
    "most_popular_songs_info = most_popular_songs[['release_year', 'track', 'artist', 'tiktok_views']]\n",
    "\n",
    "\n",
    "plt.figure(figsize=(12, 6))\n",
    "bar_plot = sns.barplot(x=yearly_tiktok_views.index, y=yearly_tiktok_views.values, color='skyblue')\n",
    "plt.title('Total TikTok Views by Release Year')\n",
    "plt.xlabel('Release Year')\n",
    "plt.ylabel('Total TikTok Views')\n",
    "plt.xticks(rotation=45)\n",
    "\n",
    "for index, row in most_popular_songs_info.iterrows():\n",
    "    bar_plot.text(row['release_year'] - 2016, yearly_tiktok_views[row['release_year']], row['track'], \n",
    "                  color='black', ha=\"center\", va=\"bottom\")\n",
    "    \n",
    "plt.show()"
   ]
  },
  {
   "cell_type": "markdown",
   "id": "20f0a930",
   "metadata": {},
   "source": [
    "We can see that since the establishment of TikTok in 2016 there had been an upward trend, peaking in 2022, followed by a decline in 2023 and 2024. The low levels of views in 2024 can be easily explained by the incompleteness of the data, as the year has not passed yet, though the low numbers in 2023 are surprising and could indicate several implications:\n",
    "\n",
    "* peak popularity and oversaturation of the social network\n",
    "* global trends and challenges, viral in 2022\n",
    "* algorithm changes might have caused this pattern, as well as user behaviour adjusting to them\n",
    "* external factors, such as the coronavirus pandemic and competition from other platforms\n",
    "* data collection regulations could affect the visibility of TikTok views\n",
    "\n",
    "Now, we will proceed to investigating the popularity of the most popular song in each year, since 2016, against the average song popularity in the given year. In order to do this, we need to first filter songs from 2016 onward and then take the average views for each year. The next step is to identify the top songs on an anual basis and gather their information, which will be required for our plot later. Then we make the comparison by taking the ratio of max views to mean views. From this step onward, the only thing left to do is to plot a bar chart, representing the popularity of the top song to the average popularity of songs that same year."
   ]
  },
  {
   "cell_type": "code",
   "execution_count": null,
   "id": "cc418e15",
   "metadata": {},
   "outputs": [],
   "source": [
    "filtered_df = spotify_df[spotify_df['release_year'] >= 2016]\n",
    "mean_views_per_year = filtered_df.groupby('release_year')['tiktok_views'].mean()\n",
    "\n",
    "most_popular_songs = filtered_df.loc[filtered_df.groupby('release_year')['tiktok_views'].idxmax()]\n",
    "most_popular_songs_info = most_popular_songs[['release_year', 'track', 'artist', 'tiktok_views']]\n",
    "\n",
    "popularity_comparison = most_popular_songs_info.set_index('release_year').join(mean_views_per_year, rsuffix='_mean')\n",
    "popularity_comparison.rename(columns={'tiktok_views': 'max_views', 'tiktok_views_mean': 'mean_views'}, inplace=True)\n",
    "popularity_comparison['popularity_ratio'] = popularity_comparison['max_views'] / popularity_comparison['mean_views']\n",
    "\n",
    "plt.figure(figsize=(12, 6))\n",
    "bar_plot = sns.barplot(x=popularity_comparison.index, y=popularity_comparison['popularity_ratio'], color='coral')\n",
    "plt.title('Most Popular Song Views to Mean Views Ratio by Release Year')\n",
    "plt.xlabel('Release Year')\n",
    "plt.ylabel('Ratio of Most Popular Song Views to Mean Views')\n",
    "plt.xticks(rotation=45)\n",
    "\n",
    "for index, row in popularity_comparison.iterrows():\n",
    "    bar_plot.text(index - 2016, row['popularity_ratio'], row['track'], color='black', ha=\"center\", va=\"bottom\")\n",
    "\n",
    "plt.show()"
   ]
  },
  {
   "cell_type": "markdown",
   "id": "b8566d4d",
   "metadata": {},
   "source": [
    "This plot indicates that the song 'oh no' in 2019 was significantly more popular than all other songs during that year, whereas, as a comparison, in 2021 the popularity of 'stay' was just slightly higher than average. This plot shows the variations in how much the top song dominated the average song in each year. A high ratio means a song much more popular, while a low ratio means the top song was closer to the average in the given year."
   ]
  },
  {
   "cell_type": "markdown",
   "id": "d6d06ba6-54fe-4514-b9f3-50b5ac541b50",
   "metadata": {},
   "source": [
    "### * Problem 9. Explore (and clean) at will\n",
    "There is a lot to look for here. For example, you can easily link a song to its genres, and lyrics. You may also try to link artists and albums to more info about them. Or you can compare and contrast a song's performance across different platforms, in a similar manner to what you already did above; maybe even assign a better song ranking system (across platforms with different popularity metrics, and different requirements) than the one provided in the dataset."
   ]
  },
  {
   "cell_type": "code",
   "execution_count": null,
   "id": "844a9811-c034-4bcf-96c4-8b69f743a330",
   "metadata": {},
   "outputs": [],
   "source": []
  }
 ],
 "metadata": {
  "kernelspec": {
   "display_name": "Python 3 (ipykernel)",
   "language": "python",
   "name": "python3"
  },
  "language_info": {
   "codemirror_mode": {
    "name": "ipython",
    "version": 3
   },
   "file_extension": ".py",
   "mimetype": "text/x-python",
   "name": "python",
   "nbconvert_exporter": "python",
   "pygments_lexer": "ipython3",
   "version": "3.11.4"
  }
 },
 "nbformat": 4,
 "nbformat_minor": 5
}
